{
 "cells": [
  {
   "attachments": {},
   "cell_type": "markdown",
   "metadata": {},
   "source": [
    "# 2 partion producer"
   ]
  },
  {
   "cell_type": "code",
   "execution_count": 2,
   "metadata": {},
   "outputs": [],
   "source": [
    "from kafka import KafkaProducer\n",
    "from kafka import KafkaConsumer\n",
    "from data import get_registered_user\n",
    "import json\n",
    "import time"
   ]
  },
  {
   "cell_type": "code",
   "execution_count": 3,
   "metadata": {},
   "outputs": [],
   "source": [
    "def json_serializer(data):\n",
    "    return json.dumps(data).encode(\"utf-8\")\n",
    "\n",
    "\n",
    "producer = KafkaProducer(bootstrap_servers=['localhost:9092'],\n",
    "                         value_serializer=json_serializer)"
   ]
  },
  {
   "cell_type": "code",
   "execution_count": 4,
   "metadata": {},
   "outputs": [
    {
     "name": "stdout",
     "output_type": "stream",
     "text": [
      "{'name': 'Jacob Patterson', 'address': '519 Edwards Lane\\nGeraldstad, RI 33558', 'created_at': '2004'}\n",
      "{'name': 'Melinda Gray', 'address': '22576 Flynn Pines\\nJeffreybury, IL 45179', 'created_at': '1986'}\n",
      "{'name': 'Allen Scott', 'address': '04885 Ford Harbors Suite 490\\nNorth Brenda, NE 20839', 'created_at': '1980'}\n",
      "{'name': 'Candace Knight', 'address': '6109 Manuel Wells\\nFordside, NV 21180', 'created_at': '1988'}\n",
      "{'name': 'Kyle Erickson', 'address': '275 Morgan Circle Suite 335\\nLake Brittanyville, NE 04077', 'created_at': '2017'}\n",
      "{'name': 'Theresa Thompson', 'address': '838 Denise Crossroad Suite 122\\nFischerview, PW 49726', 'created_at': '2009'}\n",
      "{'name': 'Hannah Lucero', 'address': '275 Tasha Ports Suite 080\\nEast Annettemouth, WY 62667', 'created_at': '2006'}\n",
      "{'name': 'Olivia Black', 'address': 'PSC 7316, Box 2518\\nAPO AE 01069', 'created_at': '1970'}\n",
      "{'name': 'Michael Perry', 'address': '00643 Cain Valley Apt. 558\\nNew Angela, OK 33320', 'created_at': '2016'}\n",
      "{'name': 'Christopher Mccoy', 'address': '4148 Scott Mission\\nSouth Karen, DE 25452', 'created_at': '2015'}\n",
      "{'name': 'Mrs. Amanda Long', 'address': '961 Flores Junctions Apt. 593\\nLake Barbara, HI 00519', 'created_at': '2003'}\n",
      "{'name': 'Donald Jordan MD', 'address': '2261 Stokes Bridge Apt. 176\\nEast Ellen, MO 17372', 'created_at': '1978'}\n",
      "{'name': 'Raymond Hall', 'address': '1104 James Meadows\\nNorth Mary, MI 65342', 'created_at': '1980'}\n",
      "{'name': 'Ashley Patterson', 'address': '3060 Chad Bridge Suite 501\\nMurrayshire, RI 02169', 'created_at': '1976'}\n",
      "{'name': 'James Cox', 'address': 'USNV Park\\nFPO AE 31295', 'created_at': '1998'}\n",
      "{'name': 'Shannon Anthony', 'address': 'USS Kerr\\nFPO AE 83516', 'created_at': '1971'}\n",
      "{'name': 'Kim Graham', 'address': '45698 Salinas Corners\\nWest Teresachester, NC 20722', 'created_at': '1990'}\n",
      "{'name': 'John Collier', 'address': '159 Rose Forges\\nPowellview, CT 65857', 'created_at': '2004'}\n",
      "{'name': 'Austin Perez', 'address': '993 Johnson Ridge\\nMcneilville, AS 15706', 'created_at': '1975'}\n",
      "{'name': 'Jonathan Schultz', 'address': '927 Mark Grove\\nNew Joannashire, WY 16953', 'created_at': '2018'}\n",
      "{'name': 'Arthur Graham', 'address': '239 Robert Mills\\nLeonardfurt, MO 34864', 'created_at': '2018'}\n",
      "{'name': 'Mark Dawson', 'address': '7897 Hernandez Bridge\\nJoelburgh, CA 81472', 'created_at': '2006'}\n",
      "{'name': 'Linda Smith', 'address': '620 Wang Plaza\\nNorth Dorothyburgh, NM 64165', 'created_at': '1976'}\n",
      "{'name': 'Jonathan Phillips', 'address': '412 Becker Key\\nSouth Jerryborough, MA 24577', 'created_at': '2021'}\n",
      "{'name': 'Mr. Marcus Williams', 'address': '514 Judy Shore\\nBrittneymouth, ND 81303', 'created_at': '1970'}\n",
      "{'name': 'Stephanie Anderson', 'address': '219 Craig Extension Suite 504\\nNew Michael, OR 04672', 'created_at': '2002'}\n",
      "{'name': 'Paula West', 'address': '743 Andrew Rue\\nHernandeztown, PW 55687', 'created_at': '1991'}\n",
      "{'name': 'Edward Austin', 'address': 'USCGC Ruiz\\nFPO AP 15718', 'created_at': '1988'}\n",
      "{'name': 'Rebecca Lopez', 'address': '601 Robert Circle\\nMeganberg, DC 55937', 'created_at': '1977'}\n",
      "{'name': 'Jessica Palmer', 'address': '3693 Kimberly Creek Suite 336\\nNew Jason, DE 62634', 'created_at': '2016'}\n",
      "{'name': 'Alyssa Garcia', 'address': '438 Espinoza Underpass\\nColemanchester, WV 23647', 'created_at': '2009'}\n"
     ]
    },
    {
     "ename": "KeyboardInterrupt",
     "evalue": "",
     "output_type": "error",
     "traceback": [
      "\u001b[0;31m---------------------------------------------------------------------------\u001b[0m",
      "\u001b[0;31mKeyboardInterrupt\u001b[0m                         Traceback (most recent call last)",
      "Cell \u001b[0;32mIn[4], line 6\u001b[0m\n\u001b[1;32m      4\u001b[0m \u001b[39mprint\u001b[39m(registered_user)\n\u001b[1;32m      5\u001b[0m producer\u001b[39m.\u001b[39msend(\u001b[39m\"\u001b[39m\u001b[39mregistered_user\u001b[39m\u001b[39m\"\u001b[39m, registered_user)\n\u001b[0;32m----> 6\u001b[0m time\u001b[39m.\u001b[39;49msleep(\u001b[39m4\u001b[39;49m)\n",
      "\u001b[0;31mKeyboardInterrupt\u001b[0m: "
     ]
    }
   ],
   "source": [
    "if __name__ == \"__main__\":\n",
    "    while 1 == 1:\n",
    "        registered_user = get_registered_user()\n",
    "        print(registered_user)\n",
    "        producer.send(\"registered_user\", registered_user)\n",
    "        time.sleep(4)"
   ]
  },
  {
   "attachments": {},
   "cell_type": "markdown",
   "metadata": {},
   "source": [
    "# Consumer"
   ]
  },
  {
   "cell_type": "code",
   "execution_count": null,
   "metadata": {},
   "outputs": [],
   "source": [
    "if __name__ == \"__main__\":\n",
    "    consumer= KafkaConsumer(\n",
    "        'registered_user',\n",
    "        bootstrap_servers=['localhost:9092'],\n",
    "        auto_offset_reset='earliest',\n",
    "        group_id ='consumer_group_a'\n",
    "    )\n",
    "    print('starting the consumer')\n",
    "    \n",
    "    for msg in consumer:\n",
    "        print(\"registerd user = {}\".format(json.loads(msg.value)))\n"
   ]
  },
  {
   "cell_type": "code",
   "execution_count": null,
   "metadata": {},
   "outputs": [],
   "source": []
  }
 ],
 "metadata": {
  "kernelspec": {
   "display_name": "ka",
   "language": "python",
   "name": "python3"
  },
  "language_info": {
   "codemirror_mode": {
    "name": "ipython",
    "version": 3
   },
   "file_extension": ".py",
   "mimetype": "text/x-python",
   "name": "python",
   "nbconvert_exporter": "python",
   "pygments_lexer": "ipython3",
   "version": "3.10.9"
  },
  "orig_nbformat": 4
 },
 "nbformat": 4,
 "nbformat_minor": 2
}
